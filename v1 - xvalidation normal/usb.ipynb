{
 "cells": [
  {
   "cell_type": "code",
   "execution_count": 4,
   "metadata": {},
   "outputs": [
    {
     "name": "stdout",
     "output_type": "stream",
     "text": [
      "  BALANCE_CCID G_PARAMS\n",
      "0          NaN      NaN\n",
      "1          NaN      NaN\n",
      "2          NaN      NaN\n",
      "3          NaN      NaN\n",
      "4          NaN      NaN\n"
     ]
    }
   ],
   "source": [
    "import xml.etree.ElementTree as ET\n",
    "import pandas as pd\n",
    "\n",
    "# Parsear el archivo XML\n",
    "tree = ET.parse('../AccountAnalysis.xml')\n",
    "root = tree.getroot()\n",
    "\n",
    "# Crear una lista para almacenar los datos\n",
    "data = []\n",
    "\n",
    "# Iterar sobre los elementos del XML y extraer los datos\n",
    "for child in root:\n",
    "    row = {}\n",
    "    for subchild in child:\n",
    "        row[subchild.tag] = subchild.text\n",
    "    data.append(row)\n",
    "\n",
    "# Crear el DataFrame\n",
    "df = pd.DataFrame(data)\n",
    "\n",
    "print(df.head())"
   ]
  },
  {
   "cell_type": "code",
   "execution_count": null,
   "metadata": {},
   "outputs": [],
   "source": []
  }
 ],
 "metadata": {
  "kernelspec": {
   "display_name": "venv",
   "language": "python",
   "name": "python3"
  },
  "language_info": {
   "codemirror_mode": {
    "name": "ipython",
    "version": 3
   },
   "file_extension": ".py",
   "mimetype": "text/x-python",
   "name": "python",
   "nbconvert_exporter": "python",
   "pygments_lexer": "ipython3",
   "version": "3.11.5"
  }
 },
 "nbformat": 4,
 "nbformat_minor": 2
}
